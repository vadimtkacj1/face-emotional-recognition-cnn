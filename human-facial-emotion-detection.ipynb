{
 "cells": [
  {
   "cell_type": "markdown",
   "metadata": {},
   "source": [
    "## Dependency       "
   ]
  },
  {
   "cell_type": "code",
   "execution_count": null,
   "metadata": {},
   "outputs": [],
   "source": [
    "# Basic Imports \n",
    "import os\n",
    "import numpy as np\n",
    "import matplotlib.pyplot as plt\n",
    "import seaborn as sns\n",
    "\n",
    "# Keras Imports \n",
    "import tensorflow as tf\n",
    "from tensorflow.keras.layers import Conv2D, Flatten, Dense, Dropout, BatchNormalization, MaxPool2D\n",
    "from tensorflow.keras.callbacks import EarlyStopping, ReduceLROnPlateau\n",
    "from tensorflow.keras.preprocessing.image import ImageDataGenerator\n",
    "from tensorflow.keras.preprocessing import image\n",
    "from tensorflow.keras.optimizers import Adam\n",
    "from tensorflow.keras import regularizers\n",
    "\n",
    "# sklearn imports\n",
    "from sklearn.metrics import classification_report, confusion_matrix"
   ]
  },
  {
   "cell_type": "markdown",
   "metadata": {},
   "source": [
    "## Path"
   ]
  },
  {
   "cell_type": "code",
   "execution_count": null,
   "metadata": {
    "execution": {
     "iopub.execute_input": "2025-07-19T15:46:13.048511Z",
     "iopub.status.busy": "2025-07-19T15:46:13.048013Z",
     "iopub.status.idle": "2025-07-19T15:46:13.052197Z",
     "shell.execute_reply": "2025-07-19T15:46:13.051486Z",
     "shell.execute_reply.started": "2025-07-19T15:46:13.048491Z"
    },
    "trusted": true
   },
   "outputs": [],
   "source": [
    "root_path = os.getcwd()\n",
    "dataset_path = os.path.join(root_path, \"dataset\")\n",
    "train_path = os.path.join(dataset_path, 'train')\n",
    "validation_path = os.path.join(dataset_path, 'validation')\n",
    "models_path = os.path.join(root_path, \"models\")"
   ]
  },
  {
   "cell_type": "markdown",
   "metadata": {},
   "source": [
    "## Train"
   ]
  },
  {
   "cell_type": "code",
   "execution_count": null,
   "metadata": {
    "execution": {
     "iopub.execute_input": "2025-07-19T15:46:13.053329Z",
     "iopub.status.busy": "2025-07-19T15:46:13.053071Z",
     "iopub.status.idle": "2025-07-19T15:46:27.828922Z",
     "shell.execute_reply": "2025-07-19T15:46:27.828163Z",
     "shell.execute_reply.started": "2025-07-19T15:46:13.053305Z"
    },
    "trusted": true
   },
   "outputs": [],
   "source": [
    "# Image Data Generator\n",
    "train_datagen = ImageDataGenerator(\n",
    "    rescale=1./255,  \n",
    "    rotation_range=20,\n",
    "    zoom_range=0.2, \n",
    "    horizontal_flip=True\n",
    ")\n",
    "validation_datagen = ImageDataGenerator(rescale=1./255)\n",
    "\n",
    "\n",
    "train_generator = train_datagen.flow_from_directory(\n",
    "    train_path,\n",
    "    target_size=(48, 48),\n",
    "    batch_size=64,\n",
    "    class_mode='categorical',\n",
    "    color_mode='grayscale'\n",
    ")\n",
    "\n",
    "\n",
    "validation_generator = validation_datagen.flow_from_directory(\n",
    "    validation_path,\n",
    "    target_size=(48, 48),\n",
    "    batch_size=64,\n",
    "    class_mode='categorical',\n",
    "    color_mode='grayscale'\n",
    ")"
   ]
  },
  {
   "cell_type": "code",
   "execution_count": null,
   "metadata": {
    "execution": {
     "iopub.execute_input": "2025-07-19T15:46:27.830506Z",
     "iopub.status.busy": "2025-07-19T15:46:27.830270Z",
     "iopub.status.idle": "2025-07-19T15:46:28.684978Z",
     "shell.execute_reply": "2025-07-19T15:46:28.684287Z",
     "shell.execute_reply.started": "2025-07-19T15:46:27.830485Z"
    },
    "trusted": true
   },
   "outputs": [],
   "source": [
    "class_names = list(train_generator.class_indices.keys())\n",
    "\n",
    "images, labels = next(train_generator)\n",
    "plt.figure(figsize=(10, 10))\n",
    "for i in range(9):\n",
    "    plt.subplot(3, 3, i + 1)\n",
    "    plt.imshow(images[i].reshape(48, 48), cmap='gray')\n",
    "    plt.title(class_names[np.argmax(labels[i])])\n",
    "    plt.axis('off')\n",
    "plt.tight_layout()\n",
    "plt.show()"
   ]
  },
  {
   "cell_type": "code",
   "execution_count": null,
   "metadata": {
    "execution": {
     "iopub.execute_input": "2025-07-19T15:46:42.651267Z",
     "iopub.status.busy": "2025-07-19T15:46:42.650728Z",
     "iopub.status.idle": "2025-07-19T15:46:44.540646Z",
     "shell.execute_reply": "2025-07-19T15:46:44.539851Z",
     "shell.execute_reply.started": "2025-07-19T15:46:42.651247Z"
    },
    "trusted": true
   },
   "outputs": [],
   "source": [
    "def cnn_model():\n",
    "  model= tf.keras.models.Sequential()\n",
    "  model.add(Conv2D(32, kernel_size=(3, 3), padding='same', activation='relu', input_shape=(48, 48,1)))\n",
    "  model.add(Conv2D(64,(3,3), padding='same', activation='relu' ))\n",
    "  model.add(BatchNormalization())\n",
    "  model.add(MaxPool2D(pool_size=(2, 2)))\n",
    "  model.add(Dropout(0.25))\n",
    "\n",
    "  model.add(Conv2D(128,(5,5), padding='same', activation='relu'))\n",
    "  model.add(BatchNormalization())\n",
    "  model.add(MaxPool2D(pool_size=(2, 2)))\n",
    "  model.add(Dropout(0.25))\n",
    "      \n",
    "  model.add(Conv2D(512,(3,3), padding='same', activation='relu', kernel_regularizer=regularizers.l2(0.01)))\n",
    "  model.add(BatchNormalization())\n",
    "  model.add(MaxPool2D(pool_size=(2, 2)))\n",
    "  model.add(Dropout(0.25))\n",
    "\n",
    "  model.add(Conv2D(512,(3,3), padding='same', activation='relu', kernel_regularizer=regularizers.l2(0.01)))\n",
    "  model.add(BatchNormalization())\n",
    "  model.add(MaxPool2D(pool_size=(2, 2)))\n",
    "  model.add(Dropout(0.25))\n",
    "\n",
    "  model.add(Conv2D(512,(3,3), padding='same', activation='relu', kernel_regularizer=regularizers.l2(0.01)))\n",
    "  model.add(BatchNormalization())\n",
    "  model.add(MaxPool2D(pool_size=(2, 2)))\n",
    "  model.add(Dropout(0.25))\n",
    "\n",
    "  model.add(Flatten()) \n",
    "  model.add(Dense(256,activation = 'relu'))\n",
    "  model.add(BatchNormalization())\n",
    "  model.add(Dropout(0.25))\n",
    "      \n",
    "  model.add(Dense(512,activation = 'relu'))\n",
    "  model.add(BatchNormalization())\n",
    "  model.add(Dropout(0.25))\n",
    "\n",
    "  model.add(Dense(7, activation='softmax'))\n",
    "\n",
    "  return model\n",
    "\n",
    "model = cnn_model()\n",
    "\n",
    "model.compile(optimizer=Adam(learning_rate=0.01), loss='categorical_crossentropy', metrics=['accuracy'])\n",
    "\n",
    "model.summary()"
   ]
  },
  {
   "cell_type": "code",
   "execution_count": null,
   "metadata": {
    "execution": {
     "iopub.execute_input": "2025-07-19T15:46:58.182996Z",
     "iopub.status.busy": "2025-07-19T15:46:58.182748Z",
     "iopub.status.idle": "2025-07-19T16:19:54.476596Z",
     "shell.execute_reply": "2025-07-19T16:19:54.475996Z",
     "shell.execute_reply.started": "2025-07-19T15:46:58.182979Z"
    },
    "trusted": true
   },
   "outputs": [],
   "source": [
    "# Callbacks\n",
    "early_stopping = EarlyStopping(monitor='val_loss', patience=5, restore_best_weights=True)\n",
    "lr_scheduler = ReduceLROnPlateau(monitor='val_loss', factor=0.2, patience=3, min_lr=1e-6, verbose=1)\n",
    "\n",
    "# Model Training\n",
    "history = model.fit(\n",
    "    train_generator,\n",
    "    epochs=20,\n",
    "    validation_data=validation_generator,\n",
    "    callbacks=[early_stopping, lr_scheduler]\n",
    ")"
   ]
  },
  {
   "cell_type": "code",
   "execution_count": null,
   "metadata": {},
   "outputs": [],
   "source": [
    "plt.figure(figsize=(8,4))\n",
    "plt.plot(history.history['loss'], label='Train Loss')\n",
    "plt.plot(history.history['val_loss'], label='Validation Loss')\n",
    "plt.title('Loss over epochs')\n",
    "plt.xlabel('Epochs')\n",
    "plt.ylabel('Loss')\n",
    "plt.legend()\n",
    "plt.show()"
   ]
  },
  {
   "cell_type": "code",
   "execution_count": null,
   "metadata": {},
   "outputs": [],
   "source": [
    "plt.figure(figsize=(8,4))\n",
    "plt.plot(history.history['accuracy'], label='Train accuracy')\n",
    "plt.plot(history.history['val_accuracy'], label='Validation accuracy')\n",
    "plt.title('Accuracy over epochs')\n",
    "plt.xlabel('Epochs')\n",
    "plt.ylabel('Accuracy')\n",
    "plt.legend()\n",
    "plt.show()\n"
   ]
  },
  {
   "cell_type": "code",
   "execution_count": null,
   "metadata": {
    "execution": {
     "iopub.execute_input": "2025-07-19T16:21:17.175898Z",
     "iopub.status.busy": "2025-07-19T16:21:17.175626Z",
     "iopub.status.idle": "2025-07-19T16:21:17.536234Z",
     "shell.execute_reply": "2025-07-19T16:21:17.535464Z",
     "shell.execute_reply.started": "2025-07-19T16:21:17.175878Z"
    },
    "trusted": true
   },
   "outputs": [],
   "source": [
    "# 6. Evaluation - Classification Report & Confusion Matrix\n",
    "val_images, val_labels = next(validation_generator)\n",
    "predictions = model.predict(val_images)\n",
    "y_true = np.argmax(val_labels, axis=1)\n",
    "y_pred = np.argmax(predictions, axis=1)\n",
    "\n",
    "print(classification_report(y_true, y_pred))\n",
    "\n",
    "cm = confusion_matrix(y_true, y_pred)\n",
    "plt.figure(figsize=(8, 6))\n",
    "sns.heatmap(cm, annot=True, fmt='d', cmap='Blues', xticklabels=class_names, yticklabels=class_names)\n",
    "plt.xlabel('Predicted')\n",
    "plt.ylabel('Actual')\n",
    "plt.title('Confusion Matrix')\n",
    "plt.show()"
   ]
  },
  {
   "cell_type": "code",
   "execution_count": null,
   "metadata": {
    "execution": {
     "iopub.execute_input": "2025-07-19T16:22:41.693799Z",
     "iopub.status.busy": "2025-07-19T16:22:41.693179Z",
     "iopub.status.idle": "2025-07-19T16:22:41.699202Z",
     "shell.execute_reply": "2025-07-19T16:22:41.698340Z",
     "shell.execute_reply.started": "2025-07-19T16:22:41.693777Z"
    },
    "trusted": true
   },
   "outputs": [],
   "source": [
    "def detect_emotion(image_path):\n",
    "    img = image.load_img(image_path, target_size=(48, 48), color_mode='grayscale')\n",
    "    img_array = image.img_to_array(img) / 255.0\n",
    "    img_array = np.expand_dims(img_array, axis=0)\n",
    "\n",
    "    prediction = model.predict(img_array)\n",
    "    predicted_index = np.argmax(prediction)\n",
    "    predicted_class = class_names[predicted_index]\n",
    "    confidence = round(prediction[0][predicted_index] * 100, 2)  \n",
    "\n",
    "    plt.imshow(img, cmap='gray')\n",
    "    plt.title(f'Predicted Emotion: {predicted_class} ({confidence}%)')\n",
    "    plt.axis('off')\n",
    "    plt.show()\n",
    "\n",
    "    return predicted_class, confidence\n"
   ]
  },
  {
   "cell_type": "code",
   "execution_count": null,
   "metadata": {
    "execution": {
     "iopub.execute_input": "2025-07-19T16:25:13.917719Z",
     "iopub.status.busy": "2025-07-19T16:25:13.917129Z",
     "iopub.status.idle": "2025-07-19T16:25:14.030832Z",
     "shell.execute_reply": "2025-07-19T16:25:14.030230Z",
     "shell.execute_reply.started": "2025-07-19T16:25:13.917697Z"
    },
    "trusted": true
   },
   "outputs": [],
   "source": [
    "# 8. Save Model\n",
    "model.save(os.path.join(models_path, 'emotion_detection.h5'))"
   ]
  }
 ],
 "metadata": {
  "kaggle": {
   "accelerator": "none",
   "dataSources": [
    {
     "datasetId": 99505,
     "sourceId": 234911,
     "sourceType": "datasetVersion"
    }
   ],
   "dockerImageVersionId": 31090,
   "isGpuEnabled": false,
   "isInternetEnabled": true,
   "language": "python",
   "sourceType": "notebook"
  },
  "kernelspec": {
   "display_name": ".venv",
   "language": "python",
   "name": "python3"
  },
  "language_info": {
   "codemirror_mode": {
    "name": "ipython",
    "version": 3
   },
   "file_extension": ".py",
   "mimetype": "text/x-python",
   "name": "python",
   "nbconvert_exporter": "python",
   "pygments_lexer": "ipython3",
   "version": "3.10.11"
  }
 },
 "nbformat": 4,
 "nbformat_minor": 4
}
